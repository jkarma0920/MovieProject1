{
 "cells": [
  {
   "cell_type": "code",
   "execution_count": null,
   "metadata": {},
   "outputs": [],
   "source": [
    "# Imports and MySQL connection\n",
    "\n",
    "import mysql.connector\n",
    "import json\n",
    "import requests\n",
    "import time\n",
    "import csv\n",
    "import config\n",
    "api_key = config.api_key\n",
    "config.host\n",
    "cnx = mysql.connector.connect(\n",
    "                              host = config.host,\n",
    "                              user = config.user,\n",
    "                              passwd = config.passwd,\n",
    "                              database = \"Movie Project1\"\n",
    "                              )\n",
    "cursor = cnx.cursor()\n",
    "print(cnx)"
   ]
  },
  {
   "cell_type": "code",
   "execution_count": null,
   "metadata": {},
   "outputs": [],
   "source": [
    "# Got the movie titles for each genre from the csv files\n",
    "\n",
    "with open('Romcom_Movies.csv', 'r') as csvfile:\n",
    "    reader = csv.DictReader(csvfile)\n",
    "    movie_titles = []\n",
    "    for movie in reader:\n",
    "        movie_titles.append(movie['title'])"
   ]
  },
  {
   "cell_type": "code",
   "execution_count": null,
   "metadata": {
    "scrolled": true
   },
   "outputs": [],
   "source": [
    "movie_titles"
   ]
  },
  {
   "cell_type": "code",
   "execution_count": null,
   "metadata": {},
   "outputs": [],
   "source": [
    "len(movie_titles)"
   ]
  },
  {
   "cell_type": "code",
   "execution_count": null,
   "metadata": {},
   "outputs": [],
   "source": [
    "# API call function\n",
    "\n",
    "def all_results(api_key, movies):\n",
    "    results = []\n",
    "    for i in range(len(movies)):\n",
    "        title = movies[i]\n",
    "        url_params = {'term': title.replace(' ', '+')}\n",
    "        url = f'http://www.omdbapi.com/?apikey={api_key}&t={title}'\n",
    "        response = requests.get(url, params = url_params)\n",
    "        results.append(response.json())\n",
    "        time.sleep(1) # wait a second\n",
    "    return results"
   ]
  },
  {
   "cell_type": "code",
   "execution_count": null,
   "metadata": {},
   "outputs": [],
   "source": [
    "test = all_results(api_key, movie_titles)"
   ]
  },
  {
   "cell_type": "code",
   "execution_count": null,
   "metadata": {
    "scrolled": true
   },
   "outputs": [],
   "source": [
    "test"
   ]
  },
  {
   "cell_type": "code",
   "execution_count": null,
   "metadata": {},
   "outputs": [],
   "source": [
    "# Extracted just the IMDb ratings and inserted into the designated table\n",
    "\n",
    "def all_ratings(movies):\n",
    "    all_data = []\n",
    "    for movie in movies:\n",
    "        if 'Title' in movie.keys():\n",
    "            try:\n",
    "                data = {'Title': movie['Title'],\n",
    "                       'imdbRating': float(movie['imdbRating'])}\n",
    "            except:\n",
    "                continue\n",
    "            cursor = cnx.cursor()\n",
    "            try:\n",
    "                cursor.execute(\"\"\"INSERT INTO Reviews (title, ratings)\n",
    "                                           VALUES (%s, %s)\"\"\", (data['Title'], data['imdbRating']))\n",
    "            except:\n",
    "                pass\n",
    "            cnx.commit()\n",
    "            all_data.append(data)\n",
    "    return all_data"
   ]
  },
  {
   "cell_type": "code",
   "execution_count": null,
   "metadata": {},
   "outputs": [],
   "source": [
    "final_test = all_ratings(test)"
   ]
  },
  {
   "cell_type": "code",
   "execution_count": null,
   "metadata": {},
   "outputs": [],
   "source": [
    "final_test"
   ]
  },
  {
   "cell_type": "code",
   "execution_count": null,
   "metadata": {},
   "outputs": [],
   "source": [
    "len(final_test)"
   ]
  },
  {
   "cell_type": "code",
   "execution_count": null,
   "metadata": {},
   "outputs": [],
   "source": [
    "# Saved the ratings for each genre in a separate csv file\n",
    "\n",
    "data_list = final_test\n",
    "keys = data_list[0].keys()\n",
    "with open('Romcom_Ratings.csv', 'w') as output_file:\n",
    "    dict_writer = csv.DictWriter(output_file, keys)\n",
    "    dict_writer.writeheader()\n",
    "    dict_writer.writerows(data_list)"
   ]
  }
 ],
 "metadata": {
  "kernelspec": {
   "display_name": "Python 3",
   "language": "python",
   "name": "python3"
  },
  "language_info": {
   "codemirror_mode": {
    "name": "ipython",
    "version": 3
   },
   "file_extension": ".py",
   "mimetype": "text/x-python",
   "name": "python",
   "nbconvert_exporter": "python",
   "pygments_lexer": "ipython3",
   "version": "3.7.3"
  }
 },
 "nbformat": 4,
 "nbformat_minor": 2
}
