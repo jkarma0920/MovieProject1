{
 "cells": [
  {
   "cell_type": "code",
   "execution_count": 2,
   "metadata": {},
   "outputs": [
    {
     "name": "stdout",
     "output_type": "stream",
     "text": [
      "<mysql.connector.connection.MySQLConnection object at 0x1124f3710>\n"
     ]
    }
   ],
   "source": [
    "import mysql.connector\n",
    "from mysql.connector import errorcode\n",
    "import config\n",
    "db_name= 'Movie Project1'\n",
    "cnx = mysql.connector.connect(\n",
    "    host = config.host,\n",
    "    user = config.user,\n",
    "    passwd = config.password,\n",
    "    \n",
    ")\n",
    "cursor = cnx.cursor()\n",
    "print(cnx)"
   ]
  },
  {
   "cell_type": "code",
   "execution_count": 15,
   "metadata": {},
   "outputs": [],
   "source": [
    "TABLES = {}\n",
    "\n",
    "TABLES['Genres'] = (\n",
    "    \"CREATE TABLE Genres (\"\n",
    "    \"  title varchar(75) NOT NULL,\"    \n",
    "    \"  boxoffice int NOT NULL,\"\n",
    "    \"  budget float NOT NULL,\"\n",
    "    \"  date varchar (20) NOT NULL,\"\n",
    "    \"  genre varchar (20) NOT NULL,\"\n",
    "    \"  PRIMARY KEY (title)\"\n",
    "    \") ENGINE=InnoDB\")\n",
    "\n",
    "TABLES['Actors'] = (\n",
    "    \"CREATE TABLE Actors (\"\n",
    "    \"  name varchar(100) NOT NULL,\"    \n",
    "    \"  bankability float NOT NULL,\"\n",
    "    \"  title varchar(75) NOT NULL,\"\n",
    "    \"  bank_per_movie float NOT NULL\"\n",
    "    \") ENGINE=InnoDB\")\n",
    "\n",
    "TABLES['Reviews'] = (\n",
    "    \"CREATE TABLE Reviews (\"\n",
    "    \"  title varchar(75) NOT NULL,\"    \n",
    "    \"  ratings float NOT NULL,\"\n",
    "    \"  PRIMARY KEY (title)\"\n",
    "    \") ENGINE=InnoDB\")\n",
    "\n"
   ]
  },
  {
   "cell_type": "code",
   "execution_count": 16,
   "metadata": {},
   "outputs": [
    {
     "data": {
      "text/plain": [
       "'CREATE TABLE Genres (  title varchar(75) NOT NULL,  boxoffice int NOT NULL,  budget float NOT NULL,  date varchar (20) NOT NULL,  genre varchar (20) NOT NULL,  PRIMARY KEY (title)) ENGINE=InnoDB'"
      ]
     },
     "execution_count": 16,
     "metadata": {},
     "output_type": "execute_result"
    }
   ],
   "source": [
    "TABLES['Genres']"
   ]
  },
  {
   "cell_type": "code",
   "execution_count": 3,
   "metadata": {},
   "outputs": [
    {
     "name": "stdout",
     "output_type": "stream",
     "text": [
      "<mysql.connector.connection.MySQLConnection object at 0x11265f240>\n"
     ]
    }
   ],
   "source": [
    "cnx = mysql.connector.connect(\n",
    "    host = config.host,\n",
    "    user = config.user,\n",
    "    passwd = config.password,\n",
    "    database= db_name\n",
    ")\n",
    "cursor = cnx.cursor()\n",
    "print(cnx)"
   ]
  },
  {
   "cell_type": "code",
   "execution_count": 18,
   "metadata": {},
   "outputs": [
    {
     "name": "stdout",
     "output_type": "stream",
     "text": [
      "Creating table Genres: OK\n",
      "Creating table Actors: already exists.\n",
      "Creating table Reviews: already exists.\n"
     ]
    }
   ],
   "source": [
    "for table_name in TABLES:\n",
    "    table_description = TABLES[table_name]\n",
    "    try:\n",
    "        print(\"Creating table {}: \".format(table_name), end='') # here we executing and actually creating the tables \n",
    "        cursor.execute(table_description)\n",
    "    except mysql.connector.Error as err:\n",
    "        if err.errno == errorcode.ER_TABLE_EXISTS_ERROR:\n",
    "            print(\"already exists.\")\n",
    "        else:\n",
    "            print(err.msg)\n",
    "    else:\n",
    "        print(\"OK\")\n",
    "\n",
    "cursor.close()\n",
    "cnx.close()"
   ]
  },
  {
   "cell_type": "code",
   "execution_count": 4,
   "metadata": {},
   "outputs": [],
   "source": [
    "add_genres = (\"INSERT INTO Genres \"\n",
    "              \"(title, boxoffice, budget, date, genre) \"\n",
    "              \"VALUES (%s, %s, %s, %s, %s)\")"
   ]
  },
  {
   "cell_type": "code",
   "execution_count": 22,
   "metadata": {},
   "outputs": [],
   "source": [
    "import csv\n",
    "\n",
    "def create_genre_dict(lst):\n",
    "    movies = []\n",
    "    for i in lst:\n",
    "        with open(i, 'r') as csvfile:\n",
    "            reader = csv.DictReader(csvfile)\n",
    "            n = [i for i in reader]\n",
    "        movies.extend(n)\n",
    "    \n",
    "    return movies"
   ]
  },
  {
   "cell_type": "code",
   "execution_count": 5,
   "metadata": {},
   "outputs": [],
   "source": [
    "genres = ['int_3d.csv', 'int_animation.csv', 'int_gayles.csv', 'int_horror.csv', 'int_romcom.csv']"
   ]
  },
  {
   "cell_type": "code",
   "execution_count": 25,
   "metadata": {},
   "outputs": [
    {
     "data": {
      "text/plain": [
       "784"
      ]
     },
     "execution_count": 25,
     "metadata": {},
     "output_type": "execute_result"
    }
   ],
   "source": [
    "len(create_genre_dict(genres))"
   ]
  },
  {
   "cell_type": "code",
   "execution_count": 26,
   "metadata": {},
   "outputs": [],
   "source": [
    "data_list = create_genre_dict(genres)\n",
    "\n",
    "keys = data_list[0].keys()\n",
    "with open('all_movies.csv', 'w') as output_file:\n",
    "    dict_writer = csv.DictWriter(output_file, keys)\n",
    "    dict_writer.writeheader()\n",
    "    dict_writer.writerows(data_list)"
   ]
  },
  {
   "cell_type": "code",
   "execution_count": 7,
   "metadata": {},
   "outputs": [
    {
     "data": {
      "text/plain": [
       "'7/2/19'"
      ]
     },
     "execution_count": 7,
     "metadata": {},
     "output_type": "execute_result"
    }
   ],
   "source": [
    "import csv\n",
    "with open('all_movies.csv', 'r') as csvfile:\n",
    "    reader = csv.DictReader(csvfile)\n",
    "    all_movies = [i for i in reader]\n",
    "all_movies[0]['dates']"
   ]
  },
  {
   "cell_type": "code",
   "execution_count": 8,
   "metadata": {},
   "outputs": [],
   "source": [
    "movie_tup = [(i['title'], i['boxoffice'], i['budget'], i['dates'], i['genre']) for i in all_movies]"
   ]
  },
  {
   "cell_type": "code",
   "execution_count": 9,
   "metadata": {},
   "outputs": [
    {
     "name": "stdout",
     "output_type": "stream",
     "text": [
      "('Spider-Man: Far from Home', '346500256', '160000000.0', '7/2/19', '3D')('The Secret Life of Pets 2', '153918300', '80000000.0', '6/7/19', '3D')('Godzilla: King of the Monsters', '109968931', '170000000.0', '5/31/19', '3D')('Aladdin (2019)', '346636294', '183000000.0', '5/24/19', '3D')('Pokemon Detective Pikachu', '143858720', '150000000.0', '5/10/19', '3D')('Avengers: Endgame', '856706929', '356000000.0', '4/26/19', '3D')('Shazam!', '140371656', '100000000.0', '4/5/19', '3D')('Dumbo (2019)', '114740069', '170000000.0', '3/29/19', '3D')('How to Train Your Dragon: The Hidden World', '160799505', '129000000.0', '2/22/19', '3D')('Alita: Battle Angel', '85710210', '170000000.0', '2/14/19', '3D')('Bumblebee', '127195589', '135000000.0', '12/21/18', '3D')('Spider-Man: Into The Spider-Verse', '190241310', '90000000.0', '12/14/18', '3D')('Mortal Engines', '15951040', '100000000.0', '12/14/18', '3D')('Ralph Breaks the Internet', '201091711', '175000000.0', '11/21/18', '3D')('Fantastic Beasts: The Crimes of Grindelwald', '159555901', '200000000.0', '11/16/18', '3D')(\"Dr. Seuss' The Grinch (2018)\", '270620950', '75000000.0', '11/9/18', '3D')('The Nutcracker and the Four Realms', '54858851', '120000000.0', '11/2/18', '3D')('Venom (2018)', '213515506', '100000000.0', '10/5/18', '3D')('Alpha', '35857181', '51000000.0', '8/17/18', '3D')('The Meg', '145443742', '130000000.0', '8/10/18', '3D')('Mission: Impossible - Fallout', '220159104', '178000000.0', '7/27/18', '3D')('Hotel Transylvania 3: Summer Vacation', '167510016', '80000000.0', '7/13/18', '3D')('Skyscraper', '68420120', '125000000.0', '7/13/18', '3D')('Jurassic World: Fallen Kingdom', '417719760', '170000000.0', '6/22/18', '3D')('Solo: A Star Wars Story', '213767512', '275000000.0', '5/25/18', '3D')('Rampage (2018)', '101028233', '120000000.0', '4/13/18', '3D')('Ready Player One', '137690172', '175000000.0', '3/29/18', '3D')('Pacific Rim Uprising', '59874525', '150000000.0', '3/23/18', '3D')('Tomb Raider', '58250803', '94000000.0', '3/16/18', '3D')('Jumanji: Welcome to the Jungle', '404564861', '90000000.0', '12/20/17', '3D')('Star Wars: The Last Jedi', '620181382', '317000000.0', '12/15/17', '3D')('Ferdinand', '84410380', '111000000.0', '12/15/17', '3D')('The Star', '40852824', '20000000.0', '11/17/17', '3D')('Thor: Ragnarok', '315058289', '180000000.0', '11/3/17', '3D')('Geostorm', '33700160', '120000000.0', '10/20/17', '3D')('Blade Runner 2049', '92054159', '150000000.0', '10/6/17', '3D')('Kingsman: The Golden Circle', '100234838', '104000000.0', '9/22/17', '3D')('The Nut Job 2: Nutty by Nature', '28370522', '40000000.0', '8/11/17', '3D')('The Emoji Movie', '86089513', '50000000.0', '7/28/17', '3D')('Valerian and the City of a Thousand Planets', '41189488', '177200000.0', '7/21/17', '3D')('War for the Planet of the Apes', '146880162', '150000000.0', '7/14/17', '3D')('Spider-Man: Homecoming', '334201140', '175000000.0', '7/7/17', '3D')('Despicable Me 3', '264624300', '80000000.0', '6/30/17', '3D')('Transformers: The Last Knight', '130168683', '217000000.0', '6/21/17', '3D')('The Mummy (2017)', '80227895', '125000000.0', '6/9/17', '3D')('Wonder Woman', '412563408', '149000000.0', '6/2/17', '3D')('Captain Underpants: The First Epic Movie', '73921000', '38000000.0', '6/2/17', '3D')('Pirates of the Caribbean: Dead Men Tell No Tales', '172558876', '230000000.0', '5/26/17', '3D')('King Arthur: Legend of the Sword', '39175066', '175000000.0', '5/12/17', '3D')('Guardians of the Galaxy Vol. 2', '389813101', '200000000.0', '5/5/17', '3D')('Smurfs: The Lost Village', '45020282', '60000000.0', '4/7/17', '3D')('Ghost in the Shell (2017)', '40563557', '110000000.0', '3/31/17', '3D')('Beauty and the Beast (2017)', '504014165', '160000000.0', '3/17/17', '3D')('Kong: Skull Island', '168052812', '185000000.0', '3/10/17', '3D')('The Great Wall', '45540830', '150000000.0', '2/17/17', '3D')('The LEGO Batman Movie', '175750384', '80000000.0', '2/10/17', '3D')('Resident Evil: The Final Chapter', '26830068', '40000000.0', '1/27/17', '3D')('xXx: The Return of Xander Cage', '44898413', '85000000.0', '1/20/17', '3D')('Underworld: Blood Wars', '30353973', '35000000.0', '1/6/17', '3D')('Sing', '270395425', '75000000.0', '12/21/16', '3D')('Passengers (2016)', '100014699', '110000000.0', '12/21/16', '3D')(\"Assassin's Creed\", '54647948', '125000000.0', '12/21/16', '3D')('Rogue One: A Star Wars Story', '532177324', '200000000.0', '12/16/16', '3D')('Fantastic Beasts and Where To Find Them', '234037575', '180000000.0', '11/18/16', '3D')('Doctor Strange', '232641920', '165000000.0', '11/4/16', '3D')('Trolls', '153707064', '125000000.0', '11/4/16', '3D')(\"Miss Peregrine's Home for Peculiar Children\", '87242834', '110000000.0', '9/30/16', '3D')('Storks', '72679278', '70000000.0', '9/23/16', '3D')('Kubo and the Two Strings', '48023088', '60000000.0', '8/19/16', '3D')('Ben-Hur (2016)', '26410477', '100000000.0', '8/19/16', '3D')(\"Pete's Dragon (2016)\", '76233151', '65000000.0', '8/12/16', '3D')('Suicide Squad', '325100054', '175000000.0', '8/5/16', '3D')('Star Trek Beyond', '158848340', '185000000.0', '7/22/16', '3D')('Ice Age: Collision Course', '64063008', '105000000.0', '7/22/16', '3D')('Ghostbusters (2016)', '128350574', '144000000.0', '7/15/16', '3D')('The Secret Life of Pets', '368384330', '75000000.0', '7/8/16', '3D')('The Legend of Tarzan', '126643061', '180000000.0', '7/1/16', '3D')('The BFG', '55483770', '140000000.0', '7/1/16', '3D')('Independence Day: Resurgence', '103144286', '165000000.0', '6/24/16', '3D')('Warcraft', '47365290', '160000000.0', '6/10/16', '3D')('Teenage Mutant Ninja Turtles: Out of the Shadows', '82051601', '135000000.0', '6/3/16', '3D')('X-Men: Apocalypse', '155442489', '178000000.0', '5/27/16', '3D')('Alice Through the Looking Glass', '77041381', '170000000.0', '5/27/16', '3D')('The Angry Birds Movie', '107509366', '73000000.0', '5/20/16', '3D')('Captain America: Civil War', '408084349', '250000000.0', '5/6/16', '3D')('The Jungle Book (2016)', '364001123', '175000000.0', '4/15/16', '3D')('Batman v Superman: Dawn of Justice', '330360194', '250000000.0', '3/25/16', '3D')('Gods of Egypt', '31153464', '140000000.0', '2/26/16', '3D')('Kung Fu Panda 3', '143528619', '145000000.0', '1/29/16', '3D')('Point Break (2015)', '28782481', '105000000.0', '12/25/15', '3D')('Star Wars: The Force Awakens', '936662225', '245000000.0', '12/18/15', '3D')('In the Heart of the Sea', '25020758', '100000000.0', '12/11/15', '3D')('The Peanuts Movie', '130178411', '99000000.0', '11/6/15', '3D')('Paranormal Activity: The Ghost Dimension', '18300124', '10000000.0', '10/23/15', '3D')('Goosebumps', '80080379', '58000000.0', '10/16/15', '3D')('Pan', '35088320', '150000000.0', '10/9/15', '3D')('The Martian', '228433663', '108000000.0', '10/2/15', '3D')('The Walk', '10137502', '35000000.0', '9/30/15', '3D')('Hotel Transylvania 2', '169700110', '80000000.0', '9/25/15', '3D')('Everest (2015)', '43482270', '55000000.0', '9/18/15', '3D')('Pixels', '78747585', '88000000.0', '7/24/15', '3D')('Ant-Man', '180202163', '130000000.0', '7/17/15', '3D')('Minions', '336045770', '74000000.0', '7/10/15', '3D')('Terminator: Genisys', '89760956', '155000000.0', '7/1/15', '3D')('Inside Out', '356461711', '175000000.0', '6/19/15', '3D')('Jurassic World', '652270625', '150000000.0', '6/12/15', '3D')('San Andreas', '155190832', '110000000.0', '5/29/15', '3D')('Poltergeist (2015)', '47425125', '35000000.0', '5/22/15', '3D')('Mad Max: Fury Road', '154058340', '150000000.0', '5/15/15', '3D')('Avengers: Age of Ultron', '459005868', '250000000.0', '5/1/15', '3D')('Home (2015)', '177397510', '135000000.0', '3/27/15', '3D')('The Divergent Series: Insurgent', '130179072', '110000000.0', '3/20/15', '3D')('The SpongeBob Movie: Sponge Out of Water', '162994032', '74000000.0', '2/6/15', '3D')('Jupiter Ascending', '47387723', '176000000.0', '2/6/15', '3D')('Seventh Son', '17223265', '95000000.0', '2/6/15', '3D')('Exodus: Gods and Kings', '65014513', '140000000.0', '12/12/14', '3D')('Penguins of Madagascar', '83350911', '132000000.0', '11/26/14', '3D')('Big Hero 6', '222527828', '165000000.0', '11/7/14', '3D')('The Book of Life (2014)', '50151543', '50000000.0', '10/17/14', '3D')('The Boxtrolls', '50837305', '60000000.0', '9/26/14', '3D')('Teenage Mutant Ninja Turtles (2014)', '191204754', '125000000.0', '8/8/14', '3D')('Guardians of the Galaxy', '333176600', '170000000.0', '8/1/14', '3D')"
     ]
    },
    {
     "name": "stdout",
     "output_type": "stream",
     "text": [
      "('Hercules (2014)', '72688614', '100000000.0', '7/25/14', '3D')('Planes: Fire & Rescue', '59165787', '50000000.0', '7/18/14', '3D')('Dawn of the Planet of the Apes', '208545589', '170000000.0', '7/11/14', '3D')('Transformers: Age of Extinction', '245439076', '210000000.0', '6/27/14', '3D')('How to Train Your Dragon 2', '177002924', '145000000.0', '6/13/14', '3D')('Edge of Tomorrow', '100206256', '178000000.0', '6/6/14', '3D')('Maleficent', '241410378', '180000000.0', '5/30/14', '3D')('X-Men: Days of Future Past', '233921534', '200000000.0', '5/23/14', '3D')('Godzilla (2014)', '200676069', '160000000.0', '5/16/14', '3D')(\"Legends of Oz: Dorothy's Return\", '8462027', '70000000.0', '5/9/14', '3D')('Rio 2', '131538435', '103000000.0', '4/11/14', '3D')('Captain America: The Winter Soldier', '259766572', '170000000.0', '4/4/14', '3D')('Need for Speed', '43577636', '66000000.0', '3/14/14', '3D')('Mr. Peabody & Sherman', '111506430', '145000000.0', '3/7/14', '3D')('300: Rise of An Empire', '106580051', '110000000.0', '3/7/14', '3D')('Pompeii', '23219748', '100000000.0', '2/21/14', '3D')('The LEGO Movie', '257760692', '60000000.0', '2/7/14', '3D')('I, Frankenstein', '19075290', '65000000.0', '1/24/14', '3D')('The Nut Job', '64251541', '42000000.0', '1/17/14', '3D')('The Legend of Hercules', '18848538', '70000000.0', '1/10/14', '3D')('47 Ronin', '38362475', '175000000.0', '12/25/13', '3D')('Walking with Dinosaurs', '36076121', '80000000.0', '12/20/13', '3D')('Frozen', '400738009', '150000000.0', '11/22/13', '3D')('Thor: The Dark World', '206362140', '170000000.0', '11/8/13', '3D')('Free Birds', '55750480', '55000000.0', '11/1/13', '3D')('Gravity', '274092705', '100000000.0', '10/4/13', '3D')('Cloudy with a Chance of Meatballs 2', '119793567', '78000000.0', '9/27/13', '3D')('Metallica Through the Never', '3419967', '18000000.0', '9/27/13', '3D')('Battle of the Year', '8888355', '20000000.0', '9/20/13', '3D')('One Direction: This is Us', '28873374', '10000000.0', '8/30/13', '3D')('Planes', '90288712', '50000000.0', '8/9/13', '3D')('Percy Jackson: Sea of Monsters', '68559554', '90000000.0', '8/7/13', '3D')('The Smurfs 2', '71017784', '105000000.0', '7/31/13', '3D')('The Wolverine', '132556852', '120000000.0', '7/26/13', '3D')('R.I.P.D.', '33618855', '130000000.0', '7/19/13', '3D')('Turbo', '83028128', '135000000.0', '7/17/13', '3D')('Pacific Rim', '101802906', '190000000.0', '7/12/13', '3D')('Despicable Me 2', '368061265', '76000000.0', '7/3/13', '3D')('World War Z', '202359711', '190000000.0', '6/21/13', '3D')('Man of Steel', '291045518', '225000000.0', '6/14/13', '3D')('Epic', '107518682', '100000000.0', '5/24/13', '3D')('Star Trek Into Darkness', '228778661', '190000000.0', '5/16/13', '3D')('The Great Gatsby (2013)', '144840419', '105000000.0', '5/10/13', '3D')('Iron Man 3', '409013994', '200000000.0', '5/3/13', '3D')('G.I. Joe: Retaliation', '122523060', '130000000.0', '3/28/13', '3D')('The Croods', '187168425', '135000000.0', '3/22/13', '3D')('Oz The Great and Powerful', '234911825', '215000000.0', '3/8/13', '3D')('Jack the Giant Slayer', '65187603', '195000000.0', '3/1/13', '3D')('Escape From Planet Earth', '57012977', '40000000.0', '2/15/13', '3D')('Hansel and Gretel: Witch Hunters', '55703475', '50000000.0', '1/25/13', '3D')('Life of Pi', '124987023', '120000000.0', '11/21/12', '3D')('Rise of the Guardians', '103412758', '145000000.0', '11/21/12', '3D')('Wreck-It Ralph', '189422889', '165000000.0', '11/2/12', '3D')('Silent Hill: Revelation 3D', '17529157', '20000000.0', '10/26/12', '3D')('Frankenweenie', '35291068', '39000000.0', '10/5/12', '3D')('Hotel Transylvania', '148313048', '85000000.0', '9/28/12', '3D')('Dredd', '13414714', '50000000.0', '9/21/12', '3D')('Resident Evil: Retribution', '42345531', '65000000.0', '9/14/12', '3D')('ParaNorman', '56003051', '60000000.0', '8/17/12', '3D')('Step Up Revolution', '35074677', '33000000.0', '7/27/12', '3D')('Ice Age: Continental Drift', '161321843', '95000000.0', '7/13/12', '3D')('Katy Perry: Part of Me', '25326071', '12000000.0', '7/5/12', '3D')('The Amazing Spider-Man', '262030663', '230000000.0', '7/3/12', '3D')('Brave', '237283207', '185000000.0', '6/22/12', '3D')('Abraham Lincoln: Vampire Hunter', '37519139', '69000000.0', '6/22/12', '3D')(\"Madagascar 3: Europe's Most Wanted\", '216391482', '145000000.0', '6/8/12', '3D')('Prometheus', '126477084', '130000000.0', '6/8/12', '3D')('MIB 3', '179020854', '225000000.0', '5/25/12', '3D')(\"Marvel's The Avengers\", '623357910', '220000000.0', '5/4/12', '3D')('The Pirates! Band of Misfits', '31051126', '55000000.0', '4/27/12', '3D')('Wrath of the Titans', '83670083', '150000000.0', '3/30/12', '3D')('John Carter', '73078100', '250000000.0', '3/9/12', '3D')(\"Dr. Seuss' The Lorax\", '214030500', '70000000.0', '3/2/12', '3D')('Ghost Rider: Spirit of Vengeance', '51774002', '57000000.0', '2/17/12', '3D')('Journey 2: The Mysterious Island', '103860290', '79000000.0', '2/10/12', '3D')('Underworld Awakening', '62321039', '70000000.0', '1/20/12', '3D')('The Darkest Hour', '21443494', '30000000.0', '12/25/11', '3D')('Immortals', '83504017', '75000000.0', '11/11/11', '3D')('A Very Harold & Kumar 3D Christmas', '35061031', '19000000.0', '11/4/11', '3D')('Puss in Boots', '149260504', '130000000.0', '10/28/11', '3D')('The Three Musketeers (2011)', '20374484', '75000000.0', '10/21/11', '3D')('Dolphin Tale', '72286779', '37000000.0', '9/23/11', '3D')('Shark Night 3D', '18877153', '25000000.0', '9/2/11', '3D')('Spy Kids: All the Time in the World', '38538188', '27000000.0', '8/19/11', '3D')('Conan the Barbarian (2011)', '21295021', '90000000.0', '8/19/11', '3D')('Fright Night (2011)', '18302607', '30000000.0', '8/19/11', '3D')('Final Destination 5', '42587643', '40000000.0', '8/12/11', '3D')('Glee The 3D Concert Movie', '11862398', '9000000.0', '8/12/11', '3D')('Sex and Zen 3D: Extreme Ecstasy', '153215', '3500000.0', '8/12/11', '3D')('The Smurfs', '142614158', '110000000.0', '7/29/11', '3D')('Captain America: The First Avenger', '176654505', '140000000.0', '7/22/11', '3D')('The Secret Life of Pets 2', '153918300', '80000000.0', '6/7/19', 'Animation')('Uglydolls', '20150241', '45000000.0', '5/3/19', 'Animation')('How to Train Your Dragon: The Hidden World', '160799505', '129000000.0', '2/22/19', 'Animation')('Spider-Man: Into The Spider-Verse', '190241310', '90000000.0', '12/14/18', 'Animation')('Ralph Breaks the Internet', '201091711', '175000000.0', '11/21/18', 'Animation')(\"Dr. Seuss' The Grinch (2018)\", '270620950', '75000000.0', '11/9/18', 'Animation')('Teen Titans Go! To The Movies', '29790236', '10000000.0', '7/27/18', 'Animation')('Hotel Transylvania 3: Summer Vacation', '167510016', '80000000.0', '7/13/18', 'Animation')('Sherlock Gnomes', '43242871', '59000000.0', '3/23/18', 'Animation')('Peter Rabbit', '115253424', '50000000.0', '2/9/18', 'Animation')('Ferdinand', '84410380', '111000000.0', '12/15/17', 'Animation')('The Star', '40852824', '20000000.0', '11/17/17', 'Animation')('My Little Pony: The Movie', '21885107', '6500000.0', '10/6/17', 'Animation')('The Nut Job 2: Nutty by Nature', '28370522', '40000000.0', '8/11/17', 'Animation')('The Emoji Movie', '86089513', '50000000.0', '7/28/17', 'Animation')('Despicable Me 3', '264624300', '80000000.0', '6/30/17', 'Animation')('Captain Underpants: The First Epic Movie', '73921000', '38000000.0', '6/2/17', 'Animation')('Smurfs: The Lost Village', '45020282', '60000000.0', '4/7/17', 'Animation')('The LEGO Batman Movie', '175750384', '80000000.0', '2/10/17', 'Animation')('Sing', '270395425', '75000000.0', '12/21/16', 'Animation')('Trolls', '153707064', '125000000.0', '11/4/16', 'Animation')('Storks', '72679278', '70000000.0', '9/23/16', 'Animation')('Kubo and the Two Strings', '48023088', '60000000.0', '8/19/16', 'Animation')('Sausage Party', '97685686', '19000000.0', '8/12/16', 'Animation')('Ice Age: Collision Course', '64063008', '105000000.0', '7/22/16', 'Animation')('The Secret Life of Pets', '368384330', '75000000.0', '7/8/16', 'Animation')('The Angry Birds Movie', '107509366', '73000000.0', '5/20/16', 'Animation')('Kung Fu Panda 3', '143528619', '145000000.0', '1/29/16', 'Animation')('Anomalisa', '3759286', '8000000.0', '12/30/15', 'Animation')('The Peanuts Movie', '130178411', '99000000.0', '11/6/15', 'Animation')('Hotel Transylvania 2', '169700110', '80000000.0', '9/25/15', 'Animation')"
     ]
    },
    {
     "name": "stdout",
     "output_type": "stream",
     "text": [
      "('Un Gallo con Muchos Huevos', '9080818', '5300000.0', '9/4/15', 'Animation')('Minions', '336045770', '74000000.0', '7/10/15', 'Animation')('Inside Out', '356461711', '175000000.0', '6/19/15', 'Animation')('Home (2015)', '177397510', '135000000.0', '3/27/15', 'Animation')('The SpongeBob Movie: Sponge Out of Water', '162994032', '74000000.0', '2/6/15', 'Animation')('Penguins of Madagascar', '83350911', '132000000.0', '11/26/14', 'Animation')('Big Hero 6', '222527828', '165000000.0', '11/7/14', 'Animation')('The Book of Life (2014)', '50151543', '50000000.0', '10/17/14', 'Animation')('The Boxtrolls', '50837305', '60000000.0', '9/26/14', 'Animation')('Planes: Fire & Rescue', '59165787', '50000000.0', '7/18/14', 'Animation')('How to Train Your Dragon 2', '177002924', '145000000.0', '6/13/14', 'Animation')(\"Legends of Oz: Dorothy's Return\", '8462027', '70000000.0', '5/9/14', 'Animation')('Rio 2', '131538435', '103000000.0', '4/11/14', 'Animation')('Mr. Peabody & Sherman', '111506430', '145000000.0', '3/7/14', 'Animation')('The LEGO Movie', '257760692', '60000000.0', '2/7/14', 'Animation')('The Nut Job', '64251541', '42000000.0', '1/17/14', 'Animation')('Frozen', '400738009', '150000000.0', '11/22/13', 'Animation')('Free Birds', '55750480', '55000000.0', '11/1/13', 'Animation')('Cloudy with a Chance of Meatballs 2', '119793567', '78000000.0', '9/27/13', 'Animation')('Planes', '90288712', '50000000.0', '8/9/13', 'Animation')('Turbo', '83028128', '135000000.0', '7/17/13', 'Animation')('Despicable Me 2', '368061265', '76000000.0', '7/3/13', 'Animation')('Epic', '107518682', '100000000.0', '5/24/13', 'Animation')('The Croods', '187168425', '135000000.0', '3/22/13', 'Animation')('Escape From Planet Earth', '57012977', '40000000.0', '2/15/13', 'Animation')('Rise of the Guardians', '103412758', '145000000.0', '11/21/12', 'Animation')('Wreck-It Ralph', '189422889', '165000000.0', '11/2/12', 'Animation')('Frankenweenie', '35291068', '39000000.0', '10/5/12', 'Animation')('Hotel Transylvania', '148313048', '85000000.0', '9/28/12', 'Animation')('ParaNorman', '56003051', '60000000.0', '8/17/12', 'Animation')('Ice Age: Continental Drift', '161321843', '95000000.0', '7/13/12', 'Animation')('Brave', '237283207', '185000000.0', '6/22/12', 'Animation')(\"Madagascar 3: Europe's Most Wanted\", '216391482', '145000000.0', '6/8/12', 'Animation')('The Pirates! Band of Misfits', '31051126', '55000000.0', '4/27/12', 'Animation')(\"Dr. Seuss' The Lorax\", '214030500', '70000000.0', '3/2/12', 'Animation')('Puss in Boots', '149260504', '130000000.0', '10/28/11', 'Animation')('Winnie the Pooh', '26692846', '30000000.0', '7/15/11', 'Animation')('Cars 2', '191452396', '200000000.0', '6/24/11', 'Animation')('Kung Fu Panda 2', '165249063', '150000000.0', '5/26/11', 'Animation')('Hoodwinked Too! Hood vs. Evil', '10143779', '30000000.0', '4/29/11', 'Animation')('Rio', '143619809', '90000000.0', '4/15/11', 'Animation')('Mars Needs Moms', '21392758', '150000000.0', '3/11/11', 'Animation')('Rango', '123477607', '135000000.0', '3/4/11', 'Animation')('The Illusionist (2010)', '2231474', '17000000.0', '12/25/10', 'Animation')('Tangled', '200821936', '260000000.0', '11/24/10', 'Animation')('Megamind', '148415853', '130000000.0', '11/5/10', 'Animation')(\"Legend of the Guardians: The Owls of Ga'Hoole\", '55675313', '80000000.0', '9/24/10', 'Animation')('Despicable Me', '251513985', '69000000.0', '7/9/10', 'Animation')('Toy Story 3', '415004880', '200000000.0', '6/18/10', 'Animation')('Shrek Forever After', '238736787', '165000000.0', '5/21/10', 'Animation')('How to Train Your Dragon', '217581231', '165000000.0', '3/26/10', 'Animation')('The Secret of Kells', '676775', '8000000.0', '3/5/10', 'Animation')('The Princess and the Frog', '104400899', '105000000.0', '11/25/09', 'Animation')('Planet 51', '42194060', '70000000.0', '11/20/09', 'Animation')('Fantastic Mr. Fox', '21002919', '40000000.0', '11/13/09', 'Animation')('A Christmas Carol (2009)', '137855863', '200000000.0', '11/6/09', 'Animation')('Astro Boy', '19551067', '65000000.0', '10/23/09', 'Animation')('Cloudy with a Chance of Meatballs', '124870275', '100000000.0', '9/18/09', 'Animation')('9', '31749894', '30000000.0', '9/9/09', 'Animation')('Ice Age: Dawn of the Dinosaurs', '196573705', '90000000.0', '7/1/09', 'Animation')('Up', '293004164', '175000000.0', '5/29/09', 'Animation')('Monsters Vs. Aliens', '198351526', '175000000.0', '3/27/09', 'Animation')('Coraline', '75286229', '60000000.0', '2/6/09', 'Animation')('The Tale of Despereaux', '50877145', '60000000.0', '12/19/08', 'Animation')('Delgo', '694782', '40000000.0', '12/12/08', 'Animation')('Bolt', '114053579', '150000000.0', '11/21/08', 'Animation')('Madagascar: Escape 2 Africa', '180010950', '150000000.0', '11/7/08', 'Animation')('Igor', '19528602', '25000000.0', '9/19/08', 'Animation')('Fly Me to the Moon', '13816982', '25000000.0', '8/15/08', 'Animation')('Space Chimps', '30105968', '37000000.0', '7/18/08', 'Animation')('WALL-E', '223808164', '180000000.0', '6/27/08', 'Animation')('Kung Fu Panda', '215434591', '130000000.0', '6/6/08', 'Animation')(\"Dr. Seuss' Horton Hears a Who!\", '154529439', '85000000.0', '3/14/08', 'Animation')('Beowulf', '82280579', '150000000.0', '11/16/07', 'Animation')('Bee Movie', '126631277', '150000000.0', '11/2/07', 'Animation')('The Simpsons Movie', '183135014', '75000000.0', '7/27/07', 'Animation')('Ratatouille', '206445654', '150000000.0', '6/29/07', 'Animation')('Shrek the Third', '322719944', '160000000.0', '5/18/07', 'Animation')('Aqua Teen Hunger Force Colon Movie Film for Theaters', '5520368', '750000', '4/13/07', 'Animation')('TMNT', '54149098', '34000000.0', '3/23/07', 'Animation')('Arthur and the Invisibles', '15132763', '86000000.0', '12/29/06', 'Animation')('Happy Feet', '198000317', '100000000.0', '11/17/06', 'Animation')('Flushed Away', '64665672', '149000000.0', '11/3/06', 'Animation')('Open Season', '85105259', '85000000.0', '9/29/06', 'Animation')('Renaissance', '70644', '18000000.0', '9/22/06', 'Animation')('Barnyard: The Original Party Animals', '72637803', '51000000.0', '8/4/06', 'Animation')('The Ant Bully', '28142535', '50000000.0', '7/28/06', 'Animation')('Monster House', '73661010', '75000000.0', '7/21/06', 'Animation')('Cars', '244082982', '120000000.0', '6/9/06', 'Animation')('The Wild', '37384046', '80000000.0', '4/14/06', 'Animation')('Ice Age: The Meltdown', '195330621', '80000000.0', '3/31/06', 'Animation')('Curious George', '58360760', '50000000.0', '2/10/06', 'Animation')('Chicken Little', '135386665', '150000000.0', '11/4/05', 'Animation')('Wallace and Gromit: The Curse of the Were-Rabbit', '56110897', '30000000.0', '10/5/05', 'Animation')('Valiant', '19478106', '35000000.0', '8/19/05', 'Animation')('Steamboy', '468867', '22000000.0', '3/18/05', 'Animation')('Robots', '128200012', '75000000.0', '3/11/05', 'Animation')(\"Pooh's Heffalump Movie\", '18098433', '20000000.0', '2/11/05', 'Animation')('The SpongeBob SquarePants Movie', '85417988', '30000000.0', '11/19/04', 'Animation')('The Polar Express', '187224490', '165000000.0', '11/10/04', 'Animation')('The Incredibles', '261441092', '92000000.0', '11/5/04', 'Animation')('Shark Tale', '160861908', '75000000.0', '10/1/04', 'Animation')('Shrek 2', '441226247', '150000000.0', '5/19/04', 'Animation')('Home on the Range', '50030461', '110000000.0', '4/2/04', 'Animation')('Looney Tunes: Back in Action', '20991364', '80000000.0', '11/14/03', 'Animation')('Sinbad: Legend of the Seven Seas', '26483452', '60000000.0', '7/2/03', 'Animation')('Rugrats Go Wild', '39402572', '25000000.0', '6/13/03', 'Animation')('Finding Nemo', '380843261', '94000000.0', '5/30/03', 'Animation')('The Jungle Book 2', '47901582', '20000000.0', '2/14/03', 'Animation')('The Wild Thornberrys', '40108697', '25000000.0', '12/20/02', 'Animation')('Treasure Planet', '38176783', '140000000.0', '11/27/02', 'Animation')('Jonah: A VeggieTales Movie', '25581229', '14000000.0', '10/4/02', 'Animation')('The Powerpuff Girls Movie', '11412414', '11000000.0', '7/3/02', 'Animation')('Hey Arnold! The Movie', '13728902', '3000000.0', '6/28/02', 'Animation')('Lilo & Stitch', '145794338', '80000000.0', '6/21/02', 'Animation')('Spirit: Stallion of the Cimarron', '73280117', '80000000.0', '5/24/02', 'Animation')('Ice Age', '176387405', '59000000.0', '3/15/02', 'Animation')('Return to Never Land', '48430258', '20000000.0', '2/15/02', 'Animation')('Jimmy Neutron: Boy Genius', '80936232', '30000000.0', '12/21/01', 'Animation')('Monsters, Inc.', '289916256', '115000000.0', '11/2/01', 'Animation')('Final Fantasy: The Spirits Within', '32131830', '137000000.0', '7/11/01', 'Animation')('Atlantis: The Lost Empire', '84056472', '120000000.0', '6/8/01', 'Animation')"
     ]
    },
    {
     "name": "stdout",
     "output_type": "stream",
     "text": [
      "('Shrek', '267665011', '60000000.0', '5/16/01', 'Animation')('Pokemon 3: The Movie', '17052128', '16000000.0', '4/6/01', 'Animation')(\"Recess: School's Out\", '36706141', '23000000.0', '2/16/01', 'Animation')(\"The Emperor's New Groove\", '89302687', '100000000.0', '12/15/00', 'Animation')('Rugrats in Paris: The Movie', '76507756', '30000000.0', '11/17/00', 'Animation')('Digimon: The Movie', '9631153', '5000000.0', '10/6/00', 'Animation')('Pokemon: The Movie 2000', '43758684', '30000000.0', '7/21/00', 'Animation')('Chicken Run', '106834564', '45000000.0', '6/23/00', 'Animation')('Titan A.E.', '22753426', '75000000.0', '6/16/00', 'Animation')('Dinosaur', '137748063', '127500000.0', '5/19/00', 'Animation')('The Road to El Dorado', '50863742', '95000000.0', '3/31/00', 'Animation')('The Tigger Movie', '45554533', '30000000.0', '2/11/00', 'Animation')('Toy Story 2', '245852179', '90000000.0', '11/19/99', 'Animation')('Pokemon: The First Movie', '85744662', '30000000.0', '11/10/99', 'Animation')('The Iron Giant', '23159305', '70000000.0', '8/3/99', 'Animation')('South Park - Bigger, Longer and Uncut', '52037603', '21000000.0', '6/30/99', 'Animation')('Tarzan', '171091819', '130000000.0', '6/16/99', 'Animation')('The King and I (1999)', '11993021', '25000000.0', '3/19/99', 'Animation')('The Prince of Egypt', '101413188', '70000000.0', '12/18/98', 'Animation')(\"A Bug's Life\", '162798565', '120000000.0', '11/20/98', 'Animation')('The Rugrats Movie', '100494675', '24000000.0', '11/20/98', 'Animation')('Antz', '90757863', '105000000.0', '10/2/98', 'Animation')('I Married a Strange Person!', '206272', '250000', '8/28/98', 'Animation')('Hercules', '99112101', '85000000.0', '6/15/97', 'Animation')('Beavis and Butt-Head Do America', '63118386', '12000000.0', '12/20/96', 'Animation')('The Hunchback of Notre Dame', '100138851', '100000000.0', '6/21/96', 'Animation')('Arabian Knight', '669276', '25000000.0', '8/25/95', 'Animation')('The Lion King', '422783777', '45000000.0', '6/15/94', 'Animation')('Aladdin', '217350219', '28000000.0', '11/13/92', 'Animation')('Beauty and the Beast', '218967620', '25000000.0', '11/15/91', 'Animation')('Rocketman  ', '95021675', '40000000.0', '5/31/19', 'Gay/Lesbian')('Bohemian Rhapsody', '216428042', '52000000.0', '11/2/18', 'Gay/Lesbian')('Love, Simon', '40826341', '17000000.0', '3/16/18', 'Gay/Lesbian')('Moonlight (2016)', '27854932', '4000000.0', '10/21/16', 'Gay/Lesbian')('Dallas Buyers Club', '27298285', '5000000.0', '11/1/13', 'Gay/Lesbian')('Circumstance', '454121', '1000000', '8/26/11', 'Gay/Lesbian')('Beginners', '5790894', '3200000.0', '6/3/11', 'Gay/Lesbian')('I Love You, Phillip Morris', '2037459', '13000000.0', '12/3/10', 'Gay/Lesbian')('The Kids Are All Right', '20811365', '4000000.0', '7/9/10', 'Gay/Lesbian')('A Single Man', '9176000', '7000000.0', '12/11/09', 'Gay/Lesbian')('Milk', '31841299', '20000000.0', '11/26/08', 'Gay/Lesbian')('The Last Mistress', '785671', '6000000.0', '6/27/08', 'Gay/Lesbian')('FAQs', '1967', '250000', '2/3/06', 'Gay/Lesbian')('That Man: Peter Berlin', '55398', '65000', '1/13/06', 'Gay/Lesbian')('Brokeback Mountain', '83043761', '14000000.0', '12/9/05', 'Gay/Lesbian')('Rent', '29077547', '40000000.0', '11/23/05', 'Gay/Lesbian')('Capote', '28750530', '7000000.0', '9/30/05', 'Gay/Lesbian')('Alexander', '34297191', '155000000.0', '11/24/04', 'Gay/Lesbian')('Bad Education', '5211842', '5000000.0', '11/19/04', 'Gay/Lesbian')('Kinsey', '10254979', '11000000.0', '11/12/04', 'Gay/Lesbian')('Tarnation', '592014', '220', '10/6/04', 'Gay/Lesbian')('A Home at the End of the World', '1029872', '6500000.0', '7/23/04', 'Gay/Lesbian')('The Dreamers', '2532228', '15000000.0', '2/6/04', 'Gay/Lesbian')('Monster', '34469210', '8000000.0', '12/24/03', 'Gay/Lesbian')('Boat Trip', '8600126', '20000000.0', '3/21/03', 'Gay/Lesbian')('The Hours', '41675994', '25000000.0', '12/27/02', 'Gay/Lesbian')('Far From Heaven', '15901849', '13500000.0', '11/8/02', 'Gay/Lesbian')('Frida', '25885000', '12000000.0', '10/25/02', 'Gay/Lesbian')('The Rules of Attraction', '6532619', '4000000.0', '10/11/02', 'Gay/Lesbian')('Kissing Jessica Stein', '7025722', '1000000', '3/13/02', 'Gay/Lesbian')('The Deep End', '8823109', '3000000.0', '8/10/01', 'Gay/Lesbian')('The Next Best Thing', '14990582', '25000000.0', '3/3/00', 'Gay/Lesbian')('The Talented Mr. Ripley', '81298265', '40000000.0', '12/25/99', 'Gay/Lesbian')(\"Boys Don't Cry\", '11540607', '2000000.0', '10/8/99', 'Gay/Lesbian')('Happy, Texas', '1955933', '2500000.0', '10/1/99', 'Gay/Lesbian')('Gods and Monsters', '6451628', '10000000.0', '11/6/98', 'Gay/Lesbian')('Midnight in the Garden of Good & Evil', '25105255', '35000000.0', '11/21/97', 'Gay/Lesbian')('In & Out', '63856929', '35000000.0', '9/19/97', 'Gay/Lesbian')(\"Child's Play (2019)\", '28977307', '10000000.0', '6/21/19', 'Horror')('The Curse of La Llorona ', '54733739', '9000000.0', '4/19/19', 'Horror')('Pet Sematary (2019)', '54724696', '21000000.0', '4/5/19', 'Horror')('Us', '175005930', '20000000.0', '3/22/19', 'Horror')('The Prodigy', '14856291', '6000000.0', '2/8/19', 'Horror')('Halloween (2018)', '159342015', '10000000.0', '10/19/18', 'Horror')('The Nun', '117450119', '22000000.0', '9/7/18', 'Horror')('Jigsaw', '38052832', '10000000.0', '10/27/17', 'Horror')('Friend Request', '3759078', '9900000.0', '9/22/17', 'Horror')('It', '327481748', '35000000.0', '9/8/17', 'Horror')('Annabelle: Creation', '102092201', '15000000.0', '8/11/17', 'Horror')('Alien: Covenant', '74262031', '97000000.0', '5/19/17', 'Horror')('The Belko Experiment', '10166820', '5000000.0', '3/17/17', 'Horror')('Get Out', '176040665', '4500000.0', '2/24/17', 'Horror')('A Cure for Wellness', '8106986', '40000000.0', '2/17/17', 'Horror')('Underworld: Blood Wars', '30353973', '35000000.0', '1/6/17', 'Horror')('Blair Witch', '20777061', '5000000.0', '9/16/16', 'Horror')('The Disappointments Room', '2423468', '15000000.0', '9/9/16', 'Horror')(\"Don't Breathe\", '89217875', '9900000.0', '8/26/16', 'Horror')('The Conjuring 2', '102470008', '40000000.0', '6/10/16', 'Horror')('The Witch', '25138705', '4000000.0', '2/19/16', 'Horror')('Paranormal Activity: The Ghost Dimension', '18300124', '10000000.0', '10/23/15', 'Horror')('Crimson Peak', '31090320', '55000000.0', '10/16/15', 'Horror')('The Green Inferno', '7192291', '5000000.0', '9/25/15', 'Horror')('Sinister 2', '27740955', '10000000.0', '8/21/15', 'Horror')('The Gallows', '22764410', '100000', '7/10/15', 'Horror')('Unfriended', '32482090', '1000000', '4/17/15', 'Horror')('Annabelle', '84273813', '6500000.0', '10/3/14', 'Horror')('Deliver Us From Evil', '30577122', '30000000.0', '7/2/14', 'Horror')('Oculus', '27695246', '5000000.0', '4/11/14', 'Horror')(\"Devil's Due\", '15821461', '7000000.0', '1/17/14', 'Horror')('Paranormal Activity: The Marked Ones', '32462372', '5000000.0', '1/3/14', 'Horror')('Carrie (2013)', '35266619', '30000000.0', '10/18/13', 'Horror')('The Conjuring', '137400141', '20000000.0', '7/19/13', 'Horror')('The Lords of Salem', '1165882', '1500000.0', '4/19/13', 'Horror')('Evil Dead (2013)', '54239856', '17000000.0', '4/5/13', 'Horror')('Stoker', '1714221', '12000000.0', '3/1/13', 'Horror')('Silent Hill: Revelation 3D', '17529157', '20000000.0', '10/26/12', 'Horror')('Paranormal Activity 4', '53900335', '5000000.0', '10/19/12', 'Horror')('Sinister', '48086903', '3000000.0', '10/12/12', 'Horror')('Resident Evil: Retribution', '42345531', '65000000.0', '9/14/12', 'Horror')('Abraham Lincoln: Vampire Hunter', '37519139', '69000000.0', '6/22/12', 'Horror')('Underworld Awakening', '62321039', '70000000.0', '1/20/12', 'Horror')('The Devil Inside', '53261944', '1000000', '1/6/12', 'Horror')('Paranormal Activity 3', '104028807', '5000000.0', '10/21/11', 'Horror')('The Thing (2011)', '16928670', '38000000.0', '10/14/11', 'Horror')(\"Don't Be Afraid of the Dark\", '24046682', '25000000.0', '8/26/11', 'Horror')('Fright Night (2011)', '18302607', '30000000.0', '8/19/11', 'Horror')('Final Destination 5', '42587643', '40000000.0', '8/12/11', 'Horror')('The Tunnel (2011)', '1532', '135000', '8/5/11', 'Horror')('Scream 4', '38180928', '40000000.0', '4/15/11', 'Horror')('Saw 3D', '45710178', '20000000.0', '10/29/10', 'Horror')('Paranormal Activity 2', '84752907', '3000000.0', '10/22/10', 'Horror')('My Soul to Take', '14744435', '25000000.0', '10/8/10', 'Horror')('Case 39', '13261851', '26000000.0', '10/1/10', 'Horror')('Let Me In', '12134935', '20000000.0', '10/1/10', 'Horror')('Chain Letter', '138788', '3000000.0', '10/1/10', 'Horror')('Resident Evil: Afterlife', '60128566', '60000000.0', '9/10/10', 'Horror')"
     ]
    },
    {
     "name": "stdout",
     "output_type": "stream",
     "text": [
      "('Piranha 3D', '25003155', '24000000.0', '8/20/10', 'Horror')('Predators', '52000688', '40000000.0', '7/9/10', 'Horror')('Splice', '17010170', '30000000.0', '6/4/10', 'Horror')(\"George A. Romero's Survival of the Dead\", '101740', '4000000.0', '5/28/10', 'Horror')('A Nightmare on Elm Street (2010)', '63075011', '35000000.0', '4/30/10', 'Horror')('The Crazies', '39123589', '20000000.0', '2/26/10', 'Horror')('The Wolfman', '61979680', '150000000.0', '2/12/10', 'Horror')('Legion (2010)', '40168080', '26000000.0', '1/22/10', 'Horror')('Daybreakers', '30101577', '20000000.0', '1/8/10', 'Horror')('Saw VI', '27693292', '11000000.0', '10/23/09', 'Horror')('Zombieland', '75590286', '23600000.0', '10/2/09', 'Horror')('Paranormal Activity', '107918810', '15000', '9/25/09', 'Horror')('Pandorum', '10330853', '33000000.0', '9/25/09', 'Horror')(\"Jennifer's Body\", '16204793', '16000000.0', '9/18/09', 'Horror')('Sorority Row', '11965282', '12500000.0', '9/11/09', 'Horror')('The Final Destination', '66477700', '40000000.0', '8/28/09', 'Horror')('Halloween II (2009)', '33392973', '15000000.0', '8/28/09', 'Horror')('Friday the 13th (2009)', '65002019', '19000000.0', '2/13/09', 'Horror')('Underworld: Rise of the Lycans', '45802315', '35000000.0', '1/23/09', 'Horror')('My Bloody Valentine 3-D', '51545952', '15000000.0', '1/16/09', 'Horror')('Saw V', '56746769', '10800000.0', '10/24/08', 'Horror')('Quarantine', '31691811', '12000000.0', '10/10/08', 'Horror')('The Mist', '25594957', '18000000.0', '11/21/07', 'Horror')('30 Days of Night', '39568996', '30000000.0', '10/19/07', 'Horror')('Hostel Part II', '17609452', '10200000.0', '6/8/07', 'Horror')('Vacancy', '19363565', '19000000.0', '4/20/07', 'Horror')('Grindhouse', '25037897', '67000000.0', '4/6/07', 'Horror')('The Hills Have Eyes 2', '20804166', '15000000.0', '3/23/07', 'Horror')('Dead Silence', '16809076', '20000000.0', '3/16/07', 'Horror')('Saw III', '80238724', '10000000.0', '10/27/06', 'Horror')('The Texas Chainsaw Massacre: The Beginning', '39517763', '16000000.0', '10/6/06', 'Horror')('Snakes on a Plane', '34020814', '33000000.0', '8/18/06', 'Horror')('The Omen (2006)', '54607383', '25000000.0', '6/6/06', 'Horror')('See No Evil', '15032800', '8000000.0', '5/19/06', 'Horror')('Silent Hill', '46982632', '50000000.0', '4/21/06', 'Horror')('Slither', '7802450', '15000000.0', '3/31/06', 'Horror')('The Hills Have Eyes', '41778863', '15000000.0', '3/10/06', 'Horror')('Final Destination 3', '54098051', '25000000.0', '2/10/06', 'Horror')('Tamara', '206871', '3500000.0', '2/3/06', 'Horror')('Hostel', '47326473', '4800000.0', '1/6/06', 'Horror')('BloodRayne', '2405420', '25000000.0', '1/6/06', 'Horror')('Saw II', '87039965', '4000000.0', '10/28/05', 'Horror')('Doom', '28212337', '60000000.0', '10/21/05', 'Horror')(\"The Devil's Rejects\", '17044981', '7000000.0', '7/22/05', 'Horror')(\"George A. Romero's Land of the Dead\", '20700082', '15000000.0', '6/24/05', 'Horror')('House of Wax', '32064800', '40000000.0', '5/6/05', 'Horror')('The Amityville Horror (2005)', '65233369', '19000000.0', '4/15/05', 'Horror')('Constantine', '75976178', '100000000.0', '2/18/05', 'Horror')('Alone in the Dark', '5178569', '20000000.0', '1/28/05', 'Horror')('Blade: Trinity', '52411906', '65000000.0', '12/8/04', 'Horror')('Seed of Chucky', '17083732', '12000000.0', '11/12/04', 'Horror')('Saw', '56000369', '1200000.0', '10/29/04', 'Horror')('Resident Evil: Apocalypse', '51201453', '45000000.0', '9/10/04', 'Horror')('Malevolence', '127287', '200000', '9/10/04', 'Horror')('Exorcist: The Beginning', '41821986', '80000000.0', '8/20/04', 'Horror')('Open Water', '30610863', '500000', '8/6/04', 'Horror')('Dawn of the Dead', '59020957', '26000000.0', '3/19/04', 'Horror')('Gothika', '59694580', '40000000.0', '11/21/03', 'Horror')('The Texas Chainsaw Massacre', '80571655', '9500000.0', '10/17/03', 'Horror')('House of the Dead', '10249719', '12000000.0', '10/10/03', 'Horror')('Underworld', '51970690', '22000000.0', '9/19/03', 'Horror')('Cabin Fever', '21158188', '1500000.0', '9/12/03', 'Horror')('Jeepers Creepers 2', '35667218', '17000000.0', '8/29/03', 'Horror')('Freddy Vs. Jason', '82622655', '30000000.0', '8/15/03', 'Horror')('28 Days Later', '45064915', '8000000.0', '6/27/03', 'Horror')('Wrong Turn', '15418790', '12600000.0', '5/30/03', 'Horror')('House of 1,000 Corpses', '12634962', '7000000.0', '4/11/03', 'Horror')('Dreamcatcher', '33715436', '68000000.0', '3/21/03', 'Horror')('Ghost Ship', '30113491', '20000000.0', '10/25/02', 'Horror')('fear dot com', '13258249', '40000000.0', '8/30/02', 'Horror')('Halloween: Resurrection', '30354442', '13000000.0', '7/12/02', 'Horror')('Jason X', '13121555', '11000000.0', '4/26/02', 'Horror')('Frailty', '13110448', '11000000.0', '4/12/02', 'Horror')('Blade II', '82348319', '54000000.0', '3/22/02', 'Horror')('Resident Evil', '40119709', '33000000.0', '3/15/02', 'Horror')('Queen of the Damned', '30336800', '35000000.0', '2/22/02', 'Horror')('Thirteen Ghosts', '41867960', '42000000.0', '10/26/01', 'Horror')('Bones', '7316658', '16000000.0', '10/26/01', 'Horror')('From Hell', '31602566', '35000000.0', '10/19/01', 'Horror')('Jeepers Creepers', '37904175', '10000000.0', '8/31/01', 'Horror')(\"John Carpenter's Ghosts of Mars\", '8709640', '28000000.0', '8/24/01', 'Horror')('The Forsaken', '7288451', '15000000.0', '4/27/01', 'Horror')('Valentine', '20384136', '29000000.0', '2/2/01', 'Horror')('Dracula 2000', '33022767', '54000000.0', '12/22/00', 'Horror')('Book of Shadows: Blair Witch 2', '26437094', '15000000.0', '10/27/00', 'Horror')('Lost Souls', '16815253', '50000000.0', '10/13/00', 'Horror')('Urban Legends: Final Cut', '21468807', '14000000.0', '9/22/00', 'Horror')('Bless the Child', '29381494', '65000000.0', '8/11/00', 'Horror')('Hollow Man', '73209340', '95000000.0', '8/4/00', 'Horror')('Final Destination', '53331147', '23000000.0', '3/17/00', 'Horror')('Pitch Black', '39240659', '23000000.0', '2/18/00', 'Horror')('Scream 3', '89143175', '40000000.0', '2/4/00', 'Horror')('End of Days', '66889043', '100000000.0', '11/24/99', 'Horror')('Sleepy Hollow', '101071502', '100000000.0', '11/19/99', 'Horror')('House on Haunted Hill', '40846082', '37000000.0', '10/29/99', 'Horror')('Stigmata', '50046268', '29000000.0', '9/10/99', 'Horror')('Stir of Echoes', '21142914', '12000000.0', '9/10/99', 'Horror')(\"The Astronaut's Wife\", '10672566', '75000000.0', '8/27/99', 'Horror')('Deep Blue Sea', '73648142', '60000000.0', '7/30/99', 'Horror')('The Blair Witch Project', '140539099', '60000', '7/16/99', 'Horror')('Lake Placid', '31770414', '35000000.0', '7/16/99', 'Horror')('Idle Hands', '4152230', '25000000.0', '4/30/99', 'Horror')('Ravenous', '2062405', '12000000.0', '3/19/99', 'Horror')('The Rage: Carrie 2', '17762705', '21000000.0', '3/12/99', 'Horror')('Virus', '14036005', '75000000.0', '1/15/99', 'Horror')('The Faculty', '40283321', '15000000.0', '12/25/98', 'Horror')('I Still Know What You Did Last Summer', '40002112', '65000000.0', '11/13/98', 'Horror')(\"John Carpenter's Vampires\", '20308772', '20000000.0', '10/30/98', 'Horror')('Bride of Chucky', '32383850', '25000000.0', '10/16/98', 'Horror')('Urban Legend', '38072438', '14000000.0', '9/25/98', 'Horror')('Halloween: H20', '55041738', '17000000.0', '8/7/98', 'Horror')('An American Werewolf in Paris', '26570463', '25000000.0', '12/25/97', 'Horror')('Scream 2', '101363301', '24000000.0', '12/12/97', 'Horror')('Alien Resurrection', '47795658', '75000000.0', '11/26/97', 'Horror')('Mimic', '25480490', '30000000.0', '8/22/97', 'Horror')('Scream', '103046663', '14000000.0', '12/20/96', 'Horror')('From Dusk Till Dawn', '25836616', '19000000.0', '1/19/96', 'Horror')('In the Mouth of Madness', '8924549', '8000000.0', '2/3/95', 'Horror')('Interview with the Vampire', '105264608', '60000000.0', '11/11/94', 'Horror')(\"Mary Shelley's Frankenstein\", '22006296', '45000000.0', '11/4/94', 'Horror')(\"Bram Stoker's Dracula\", '82522790', '40000000.0', '11/13/92', 'Horror')('Alien 3', '55473545', '50000000.0', '5/22/92', 'Horror')('The Lawnmower Man', '32100816', '10000000.0', '3/6/92', 'Horror')('The People Under the Stairs', '24204154', '6000000.0', '11/1/91', 'Horror')(\"Freddy's Dead: The Final Nightmare\", '34872033', '11000000.0', '9/13/91', 'Horror')('Halloween 4: The Return of Michael Myers', '17768757', '5000000.0', '10/21/88', 'Horror')('Predator', '59735548', '15000000.0', '6/12/87', 'Horror')"
     ]
    },
    {
     "name": "stdout",
     "output_type": "stream",
     "text": [
      "('Angel Heart', '17185632', '17000000.0', '3/6/87', 'Horror')('The Texas Chainsaw Massacre 2', '8025872', '4700000.0', '8/22/86', 'Horror')('Re-Animator', '2023414', '900000', '10/18/85', 'Horror')('What Men Want', '54611903', '20000000.0', '2/8/19', 'Rom-Com')('Second Act', '39282227', '16000000.0', '12/21/18', 'Rom-Com')('Crazy Rich Asians', '174532921', '30000000.0', '8/15/18', 'Rom-Com')('Overboard (2018)', '50316123', '12000000.0', '5/4/18', 'Rom-Com')('Home Again', '27020284', '12000000.0', '9/8/17', 'Rom-Com')(\"Bridget Jones's Baby\", '24252420', '35000000.0', '9/16/16', 'Rom-Com')('How to Be Single', '46843513', '38000000.0', '2/12/16', 'Rom-Com')('Trainwreck', '110212700', '35000000.0', '7/17/15', 'Rom-Com')('Blended', '46294610', '40000000.0', '5/23/14', 'Rom-Com')('About Last Night (2014)', '48637684', '12500000.0', '2/14/14', 'Rom-Com')('That Awkward Moment', '26068955', '8000000.0', '1/31/14', 'Rom-Com')('Don Jon', '24477704', '3000000.0', '9/27/13', 'Rom-Com')('The Big Wedding', '21819348', '35000000.0', '4/26/13', 'Rom-Com')('Silver Linings Playbook', '132092958', '21000000.0', '11/16/12', 'Rom-Com')(\"What to Expect When You're Expecting\", '41152203', '40000000.0', '5/18/12', 'Rom-Com')('The Five-Year Engagement', '28835528', '30000000.0', '4/27/12', 'Rom-Com')('Think Like a Man', '91547205', '12000000.0', '4/20/12', 'Rom-Com')(\"New Year's Eve\", '54544638', '56000000.0', '12/9/11', 'Rom-Com')('Crazy, Stupid, Love.', '84351197', '50000000.0', '7/29/11', 'Rom-Com')('Friends with Benefits', '55802754', '35000000.0', '7/22/11', 'Rom-Com')('Larry Crowne', '35608245', '30000000.0', '7/1/11', 'Rom-Com')('Monte Carlo', '23186769', '20000000.0', '7/1/11', 'Rom-Com')('Midnight in Paris', '56817045', '17000000.0', '5/20/11', 'Rom-Com')('Something Borrowed', '39046489', '35000000.0', '5/6/11', 'Rom-Com')('Jumping the Broom', '37295394', '6600000.0', '5/6/11', 'Rom-Com')('Arthur (2011)', '33035397', '40000000.0', '4/8/11', 'Rom-Com')('Just Go With It', '103028109', '80000000.0', '2/11/11', 'Rom-Com')('No Strings Attached', '70662220', '25000000.0', '1/21/11', 'Rom-Com')('How Do You Know', '30212620', '120000000.0', '12/17/10', 'Rom-Com')('Life as We Know It', '53374681', '38000000.0', '10/8/10', 'Rom-Com')('Easy A', '58401464', '8000000.0', '9/17/10', 'Rom-Com')('Going the Distance', '17804299', '32000000.0', '9/3/10', 'Rom-Com')('Sex and the City 2', '95347692', '100000000.0', '5/27/10', 'Rom-Com')('Letters to Juliet', '53032453', '30000000.0', '5/14/10', 'Rom-Com')('The Back-Up Plan', '37490007', '35000000.0', '4/23/10', 'Rom-Com')(\"She's Out of My League\", '32010860', '20000000.0', '3/12/10', 'Rom-Com')('The Good Guy', '100688', '10000000.0', '2/19/10', 'Rom-Com')(\"Valentine's Day\", '110485654', '52000000.0', '2/12/10', 'Rom-Com')('Leap Year', '25918920', '19000000.0', '1/8/10', 'Rom-Com')(\"It's Complicated\", '112735375', '85000000.0', '12/25/09', 'Rom-Com')('Did You Hear About the Morgans?', '29580087', '58000000.0', '12/18/09', 'Rom-Com')('The Ugly Truth', '88915214', '38000000.0', '7/24/09', 'Rom-Com')('(500) Days of Summer', '32391374', '7500000.0', '7/17/09', 'Rom-Com')('The Proposal', '163958031', '40000000.0', '6/19/09', 'Rom-Com')(\"My Best Friend's Girl\", '19219250', '20000000.0', '9/19/08', 'Rom-Com')('Everybody Wants to Be Italian', '351416', '3000000.0', '9/5/08', 'Rom-Com')('Sex and the City', '152647258', '65000000.0', '5/30/08', 'Rom-Com')('What Happens in Vegas', '80277646', '35000000.0', '5/9/08', 'Rom-Com')('Made of Honor', '46012734', '40000000.0', '5/2/08', 'Rom-Com')('Forgetting Sarah Marshall', '63172463', '30000000.0', '4/18/08', 'Rom-Com')(\"Fool's Gold\", '70231041', '70000000.0', '2/8/08', 'Rom-Com')('27 Dresses', '76808654', '30000000.0', '1/18/08', 'Rom-Com')('Knocked Up', '148768917', '30000000.0', '6/1/07', 'Rom-Com')('Norbit', '95673607', '60000000.0', '2/9/07', 'Rom-Com')('The Holiday', '63224849', '85000000.0', '12/8/06', 'Rom-Com')('A Good Year', '7459300', '35000000.0', '11/10/06', 'Rom-Com')('The Last Kiss (2006)', '11614790', '20000000.0', '9/15/06', 'Rom-Com')('The Break-Up', '118703275', '52000000.0', '6/2/06', 'Rom-Com')('Failure to Launch', '88715192', '50000000.0', '3/10/06', 'Rom-Com')('Prime', '22827153', '22000000.0', '10/28/05', 'Rom-Com')('Just Like Heaven', '48318130', '58000000.0', '9/16/05', 'Rom-Com')('Side Effects', '2216', '30000000.0', '9/9/05', 'Rom-Com')('Must Love Dogs', '43894863', '30000000.0', '7/29/05', 'Rom-Com')('Bewitched', '63313159', '85000000.0', '6/24/05', 'Rom-Com')('The Perfect Man', '16535005', '10000000.0', '6/17/05', 'Rom-Com')('A Lot Like Love', '21845719', '30000000.0', '4/22/05', 'Rom-Com')('Fever Pitch', '42071069', '30000000.0', '4/8/05', 'Rom-Com')('Bigger Than the Sky', '21398', '750000', '2/18/05', 'Rom-Com')('Hitch', '179495555', '70000000.0', '2/11/05', 'Rom-Com')('The Wedding Date', '31726995', '15000000.0', '2/4/05', 'Rom-Com')('Bridget Jones: The Edge of Reason', '40226215', '40000000.0', '11/12/04', 'Rom-Com')('Wimbledon', '17001133', '31000000.0', '9/17/04', 'Rom-Com')('Little Black Book', '20698668', '35000000.0', '8/6/04', 'Rom-Com')(\"Breakin' All the Rules\", '12264319', '10000000.0', '5/14/04', 'Rom-Com')('Laws of Attraction', '17871255', '32000000.0', '4/30/04', 'Rom-Com')('The Prince and Me', '28176497', '22000000.0', '4/2/04', 'Rom-Com')('50 First Dates', '120908074', '75000000.0', '2/13/04', 'Rom-Com')('Win a Date with Tad Hamilton!', '17071962', '22000000.0', '1/23/04', 'Rom-Com')('Along Came Polly', '88097164', '42000000.0', '1/16/04', 'Rom-Com')('Chasing Liberty', '12195626', '23000000.0', '1/9/04', 'Rom-Com')(\"Something's Gotta Give\", '124728738', '80000000.0', '12/12/03', 'Rom-Com')('Love Actually', '59696144', '40000000.0', '11/7/03', 'Rom-Com')('Anything Else', '3212310', '18000000.0', '9/19/03', 'Rom-Com')('Alex and Emma', '14218698', '30000000.0', '6/20/03', 'Rom-Com')('Boat Trip', '8600126', '20000000.0', '3/21/03', 'Rom-Com')('Bringing Down the House', '132716677', '33000000.0', '3/7/03', 'Rom-Com')('A Guy Thing', '15545431', '20000000.0', '1/17/03', 'Rom-Com')('Just Married', '56127162', '18000000.0', '1/10/03', 'Rom-Com')('Two Weeks Notice', '93354851', '60000000.0', '12/20/02', 'Rom-Com')('Maid in Manhattan', '94011225', '55000000.0', '12/13/02', 'Rom-Com')('Brown Sugar', '27363891', '8000000.0', '10/11/02', 'Rom-Com')('Swept Away', '598645', '10000000.0', '10/11/02', 'Rom-Com')('Sweet Home Alabama', '127223418', '30000000.0', '9/27/02', 'Rom-Com')('Serving Sara', '16930185', '29000000.0', '8/23/02', 'Rom-Com')('Mr. Deeds', '126293452', '50000000.0', '6/28/02', 'Rom-Com')('About a Boy', '41385278', '30000000.0', '5/17/02', 'Rom-Com')('Life, or Something Like It', '14448589', '40000000.0', '4/26/02', 'Rom-Com')('My Big Fat Greek Wedding', '241438208', '5000000.0', '4/19/02', 'Rom-Com')('The Sweetest Thing', '24718164', '43000000.0', '4/12/02', 'Rom-Com')('Crush', '1084935', '6000000.0', '4/5/02', 'Rom-Com')('Kissing Jessica Stein', '7025722', '1000000', '3/13/02', 'Rom-Com')('Shallow Hal', '70839203', '40000000.0', '11/9/01', 'Rom-Com')('On the Line', '4365455', '16000000.0', '10/26/01', 'Rom-Com')('Two Can Play That Game', '22235901', '13000000.0', '9/7/01', 'Rom-Com')('Summer Catch', '19753553', '34000000.0', '8/24/01', 'Rom-Com')(\"America's Sweethearts\", '93607673', '46000000.0', '7/20/01', 'Rom-Com')('Town & Country', '6719973', '90000000.0', '4/27/01', 'Rom-Com')(\"Bridget Jones's Diary\", '71543427', '25000000.0', '4/13/01', 'Rom-Com')('Someone Like You', '27343067', '23000000.0', '3/30/01', 'Rom-Com')(\"Say It Isn't So\", '5520393', '25000000.0', '3/23/01', 'Rom-Com')('Get Over It', '11576464', '22000000.0', '3/9/01', 'Rom-Com')('Down to Earth', '64186502', '49000000.0', '2/16/01', 'Rom-Com')('Head Over Heels', '10424470', '14000000.0', '2/2/01', 'Rom-Com')('The Wedding Planner', '60400856', '35000000.0', '1/26/01', 'Rom-Com')('What Women Want', '182811707', '70000000.0', '12/15/00', 'Rom-Com')('Dr. T and the Women', '13113041', '23000000.0', '10/13/00', 'Rom-Com')('Woman on Top', '5020111', '8000000.0', '9/22/00', 'Rom-Com')('Loser', '15618626', '20000000.0', '7/21/00', 'Rom-Com')('Boys and Girls', '21799652', '35000000.0', '6/16/00', 'Rom-Com')('Keeping the Faith', '37047880', '29000000.0', '4/14/00', 'Rom-Com')('Return to Me', '32722798', '24000000.0', '4/7/00', 'Rom-Com')('High Fidelity', '27287137', '30000000.0', '3/31/00', 'Rom-Com')"
     ]
    },
    {
     "name": "stdout",
     "output_type": "stream",
     "text": [
      "('Whatever It Takes', '8745680', '32000000.0', '3/24/00', 'Rom-Com')('Down to You', '20069008', '11000000.0', '1/21/00', 'Rom-Com')('The Bachelor', '21760240', '51000000.0', '11/5/99', 'Rom-Com')('Three to Tango', '10570375', '20000000.0', '10/22/99', 'Rom-Com')('Drive Me Crazy', '17845337', '8500000.0', '10/1/99', 'Rom-Com')('Mickey Blue Eyes', '33864342', '75000000.0', '8/20/99', 'Rom-Com')('Runaway Bride', '152257509', '70000000.0', '7/30/99', 'Rom-Com')('Notting Hill', '116089678', '42000000.0', '5/28/99', 'Rom-Com')('The Love Letter', '8302478', '20000000.0', '5/21/99', 'Rom-Com')(\"A Midsummer Night's Dream\", '16071990', '11000000.0', '5/14/99', 'Rom-Com')('Never Been Kissed', '55474756', '25000000.0', '4/9/99', 'Rom-Com')('10 Things I Hate About You', '38178166', '30000000.0', '3/31/99', 'Rom-Com')('Forces of Nature', '52888180', '75000000.0', '3/19/99', 'Rom-Com')('Just the Ticket', '430404', '12000000.0', '2/26/99', 'Rom-Com')('Blast from the Past', '26511114', '35000000.0', '2/12/99', 'Rom-Com')('Simply Irresistible', '4398989', '6000000.0', '2/5/99', 'Rom-Com')(\"She's All That\", '63366989', '10000000.0', '1/29/99', 'Rom-Com')(\"You've Got Mail\", '115821495', '65000000.0', '12/18/98', 'Rom-Com')('Shakespeare in Love', '100317794', '25000000.0', '12/11/98', 'Rom-Com')('Home Fries', '10459961', '35000000.0', '11/27/98', 'Rom-Com')(\"There's Something About Mary\", '176484651', '23000000.0', '7/15/98', 'Rom-Com')('Sliding Doors', '11841544', '6000000.0', '4/24/98', 'Rom-Com')('The Wedding Singer', '80245725', '18000000.0', '2/13/98', 'Rom-Com')('As Good as It Gets', '148478011', '50000000.0', '12/23/97', 'Rom-Com')(\"My Best Friend's Wedding\", '127120029', '38000000.0', '6/20/97', 'Rom-Com')('The Beautician and the Beast', '11486880', '16000000.0', '2/7/97', 'Rom-Com')('Sabrina', '53672080', '58000000.0', '12/15/95', 'Rom-Com')('The Perez Family', '2832826', '11000000.0', '5/12/95', 'Rom-Com')('While You Were Sleeping', '81057016', '17000000.0', '4/21/95', 'Rom-Com')('Don Juan de Marco', '22150451', '25000000.0', '4/7/95', 'Rom-Com')('I.Q.', '26381221', '25000000.0', '12/25/94', 'Rom-Com')('Four Weddings and a Funeral', '52700832', '4400000.0', '3/11/94', 'Rom-Com')('For Love or Money', '11146270', '30000000.0', '10/1/93', 'Rom-Com')('Sleepless in Seattle', '126808165', '21000000.0', '6/25/93', 'Rom-Com')('Much Ado About Nothing', '22549338', '11000000.0', '5/7/93', 'Rom-Com')('Boomerang', '70052444', '42000000.0', '7/1/92', 'Rom-Com')('Mannequin Two: On the Move', '3752428', '13000000.0', '5/17/91', 'Rom-Com')('The Marrying Man', '12454768', '26000000.0', '4/5/91', 'Rom-Com')('Pretty Woman', '178406268', '14000000.0', '3/23/90', 'Rom-Com')('Valley Girl', '17343596', '350000', '4/29/83', 'Rom-Com')"
     ]
    }
   ],
   "source": [
    "cnx = mysql.connector.connect(\n",
    "    host = config.host,\n",
    "    user = config.user,\n",
    "    passwd = config.password,\n",
    "    database = db_name\n",
    ")\n",
    "cursor = cnx.cursor()\n",
    "\n",
    "for i in movie_tup:\n",
    "    try:\n",
    "        cursor.execute(add_genres, i)\n",
    "    except:\n",
    "        pass\n",
    "    print(i, end='')\n",
    "cnx.commit()"
   ]
  },
  {
   "cell_type": "code",
   "execution_count": 10,
   "metadata": {},
   "outputs": [
    {
     "data": {
      "text/plain": [
       "784"
      ]
     },
     "execution_count": 10,
     "metadata": {},
     "output_type": "execute_result"
    }
   ],
   "source": [
    "len(movie_tup)"
   ]
  },
  {
   "cell_type": "code",
   "execution_count": 11,
   "metadata": {},
   "outputs": [],
   "source": [
    "cursor.close()\n",
    "cnx.close()"
   ]
  },
  {
   "cell_type": "code",
   "execution_count": null,
   "metadata": {},
   "outputs": [],
   "source": []
  }
 ],
 "metadata": {
  "kernelspec": {
   "display_name": "Python 3",
   "language": "python",
   "name": "python3"
  },
  "language_info": {
   "codemirror_mode": {
    "name": "ipython",
    "version": 3
   },
   "file_extension": ".py",
   "mimetype": "text/x-python",
   "name": "python",
   "nbconvert_exporter": "python",
   "pygments_lexer": "ipython3",
   "version": "3.7.3"
  }
 },
 "nbformat": 4,
 "nbformat_minor": 2
}
